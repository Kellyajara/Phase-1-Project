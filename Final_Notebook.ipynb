{
 "cells": [
  {
   "cell_type": "markdown",
   "metadata": {},
   "source": [
    "# Microsoft Movie Analysis Project"
   ]
  },
  {
   "cell_type": "markdown",
   "metadata": {},
   "source": [
    "### Imported packages"
   ]
  },
  {
   "cell_type": "code",
   "execution_count": 93,
   "metadata": {},
   "outputs": [],
   "source": [
    "import pandas as pd\n",
    "import matplotlib.pyplot as plt\n",
    "import seaborn as sns\n",
    "import numpy as np\n",
    "import sqlite3\n",
    "con = sqlite3.connect('Data/im.db')\n",
    "cursor_obj = con.cursor()"
   ]
  },
  {
   "cell_type": "markdown",
   "metadata": {},
   "source": [
    "### Imported Data sets"
   ]
  },
  {
   "cell_type": "code",
   "execution_count": 94,
   "metadata": {},
   "outputs": [],
   "source": [
    "mov_gross = pd.read_csv('Data/bom.movie_gross.csv.gz')\n",
    "tn_movie_budgets = pd.read_csv('Data/tn.movie_budgets.csv.gz')\n",
    "mov_info = pd.read_table('Data/rt.movie_info.tsv')\n",
    "reviews = pd.read_table('Data/rt.reviews.tsv', encoding= 'unicode_escape')\n",
    "rot_tom = pd.read_csv('Data/rotten_tomatoes_movies.csv')\n",
    "db_mov = pd.read_csv('Data/tmdb.movies.csv.gz', delimiter = \",\")"
   ]
  },
  {
   "cell_type": "markdown",
   "metadata": {},
   "source": [
    "### Looked at each dataset.info() to find the relevant information."
   ]
  },
  {
   "cell_type": "code",
   "execution_count": 95,
   "metadata": {},
   "outputs": [
    {
     "name": "stdout",
     "output_type": "stream",
     "text": [
      "<class 'pandas.core.frame.DataFrame'>\n",
      "RangeIndex: 26517 entries, 0 to 26516\n",
      "Data columns (total 10 columns):\n",
      " #   Column             Non-Null Count  Dtype  \n",
      "---  ------             --------------  -----  \n",
      " 0   Unnamed: 0         26517 non-null  int64  \n",
      " 1   genre_ids          26517 non-null  object \n",
      " 2   id                 26517 non-null  int64  \n",
      " 3   original_language  26517 non-null  object \n",
      " 4   original_title     26517 non-null  object \n",
      " 5   popularity         26517 non-null  float64\n",
      " 6   release_date       26517 non-null  object \n",
      " 7   title              26517 non-null  object \n",
      " 8   vote_average       26517 non-null  float64\n",
      " 9   vote_count         26517 non-null  int64  \n",
      "dtypes: float64(2), int64(3), object(5)\n",
      "memory usage: 2.0+ MB\n"
     ]
    }
   ],
   "source": [
    "db_mov.info()"
   ]
  },
  {
   "cell_type": "markdown",
   "metadata": {},
   "source": [
    "## Recommendation 1: Genres based on Popularity and Voter Average"
   ]
  },
  {
   "cell_type": "markdown",
   "metadata": {},
   "source": [
    "### Exploding the genre column to be able to plot the genres based on its popularity. created a genre dictionary from imdb genre ids\n"
   ]
  },
  {
   "cell_type": "code",
   "execution_count": 96,
   "metadata": {},
   "outputs": [],
   "source": [
    "genre_dic = {'Action'      :    28,\n",
    "'Adventure'    :   12,\n",
    "'Animation'     :  16,\n",
    "'Comedy'         : 35,\n",
    "'Crime'          : 80,\n",
    "'Documentary'    : 99,\n",
    "'Drama'          : 18,\n",
    "'Family'         : 10751,\n",
    "'Fantasy'        : 14,\n",
    "'History'        : 36,\n",
    "'Horror'         : 27,\n",
    "'Music'          : 10402,\n",
    "'Mystery'        : 9648,\n",
    "'Romance'        : 10749,\n",
    "'Science Fiction' : 878,\n",
    "'TV Movie'       : 10770,\n",
    "'Thriller'       : 53,\n",
    "'War'            : 10752,\n",
    "'Western'        : 37}\n"
   ]
  },
  {
   "cell_type": "markdown",
   "metadata": {},
   "source": [
    "## Cleaned The Data \n",
    "#### Switched the keys and values for the dictionary so it was easier to access. if we inserted the genre id, now we can recieve the genre name. Also, any empty lists are replaces as NaN"
   ]
  },
  {
   "cell_type": "code",
   "execution_count": 97,
   "metadata": {},
   "outputs": [
    {
     "data": {
      "text/plain": [
       "'Action'"
      ]
     },
     "execution_count": 97,
     "metadata": {},
     "output_type": "execute_result"
    }
   ],
   "source": [
    "gd= {str(y): x for x,y in genre_dic.items()}\n",
    "\n",
    "gd[''] = np.nan\n",
    "\n",
    "gd['28']"
   ]
  },
  {
   "cell_type": "markdown",
   "metadata": {},
   "source": [
    "#### deleted the single quotes between the genre id"
   ]
  },
  {
   "cell_type": "code",
   "execution_count": 98,
   "metadata": {},
   "outputs": [],
   "source": [
    "db_mov['genre_ids'] = db_mov['genre_ids'].apply(lambda x: (x.replace(\"'\", '')))"
   ]
  },
  {
   "cell_type": "markdown",
   "metadata": {},
   "source": [
    "#### deleted the square brackets"
   ]
  },
  {
   "cell_type": "code",
   "execution_count": 99,
   "metadata": {},
   "outputs": [],
   "source": [
    "db_mov['genre_ids'] =db_mov['genre_ids'].apply(lambda x: x.replace(']',''))\n",
    "db_mov['genre_ids'] =db_mov['genre_ids'].apply(lambda x: x.replace('[',''))"
   ]
  },
  {
   "cell_type": "markdown",
   "metadata": {},
   "source": [
    "####  deleted the commas "
   ]
  },
  {
   "cell_type": "code",
   "execution_count": 100,
   "metadata": {},
   "outputs": [],
   "source": [
    "db_mov['genre_ids'] = db_mov['genre_ids'].apply(lambda x: x.split(','))"
   ]
  },
  {
   "cell_type": "markdown",
   "metadata": {},
   "source": [
    "#### replaced the extra spaces with single spaces"
   ]
  },
  {
   "cell_type": "code",
   "execution_count": 101,
   "metadata": {},
   "outputs": [],
   "source": [
    "db_mov['genre_ids'] =db_mov['genre_ids'].apply(lambda x: [i.replace(' ','') for i in x])"
   ]
  },
  {
   "cell_type": "markdown",
   "metadata": {},
   "source": [
    "#### for each genre dic item, make i in x (the genre_ids) the same."
   ]
  },
  {
   "cell_type": "code",
   "execution_count": 102,
   "metadata": {},
   "outputs": [],
   "source": [
    "db_mov['genre_names']= db_mov['genre_ids'].apply(lambda x: [gd[i]  for i in x])"
   ]
  },
  {
   "cell_type": "markdown",
   "metadata": {},
   "source": [
    "#### explode the genre_names in the dataframe"
   ]
  },
  {
   "cell_type": "code",
   "execution_count": 103,
   "metadata": {},
   "outputs": [],
   "source": [
    "exploded_genre_df = db_mov.explode('genre_names')"
   ]
  },
  {
   "cell_type": "code",
   "execution_count": 104,
   "metadata": {},
   "outputs": [
    {
     "data": {
      "text/html": [
       "<div>\n",
       "<style scoped>\n",
       "    .dataframe tbody tr th:only-of-type {\n",
       "        vertical-align: middle;\n",
       "    }\n",
       "\n",
       "    .dataframe tbody tr th {\n",
       "        vertical-align: top;\n",
       "    }\n",
       "\n",
       "    .dataframe thead th {\n",
       "        text-align: right;\n",
       "    }\n",
       "</style>\n",
       "<table border=\"1\" class=\"dataframe\">\n",
       "  <thead>\n",
       "    <tr style=\"text-align: right;\">\n",
       "      <th></th>\n",
       "      <th>Unnamed: 0</th>\n",
       "      <th>genre_ids</th>\n",
       "      <th>id</th>\n",
       "      <th>original_language</th>\n",
       "      <th>original_title</th>\n",
       "      <th>popularity</th>\n",
       "      <th>release_date</th>\n",
       "      <th>title</th>\n",
       "      <th>vote_average</th>\n",
       "      <th>vote_count</th>\n",
       "      <th>genre_names</th>\n",
       "    </tr>\n",
       "  </thead>\n",
       "  <tbody>\n",
       "    <tr>\n",
       "      <th>0</th>\n",
       "      <td>0</td>\n",
       "      <td>[12, 14, 10751]</td>\n",
       "      <td>12444</td>\n",
       "      <td>en</td>\n",
       "      <td>Harry Potter and the Deathly Hallows: Part 1</td>\n",
       "      <td>33.533</td>\n",
       "      <td>2010-11-19</td>\n",
       "      <td>Harry Potter and the Deathly Hallows: Part 1</td>\n",
       "      <td>7.7</td>\n",
       "      <td>10788</td>\n",
       "      <td>Adventure</td>\n",
       "    </tr>\n",
       "    <tr>\n",
       "      <th>0</th>\n",
       "      <td>0</td>\n",
       "      <td>[12, 14, 10751]</td>\n",
       "      <td>12444</td>\n",
       "      <td>en</td>\n",
       "      <td>Harry Potter and the Deathly Hallows: Part 1</td>\n",
       "      <td>33.533</td>\n",
       "      <td>2010-11-19</td>\n",
       "      <td>Harry Potter and the Deathly Hallows: Part 1</td>\n",
       "      <td>7.7</td>\n",
       "      <td>10788</td>\n",
       "      <td>Fantasy</td>\n",
       "    </tr>\n",
       "    <tr>\n",
       "      <th>0</th>\n",
       "      <td>0</td>\n",
       "      <td>[12, 14, 10751]</td>\n",
       "      <td>12444</td>\n",
       "      <td>en</td>\n",
       "      <td>Harry Potter and the Deathly Hallows: Part 1</td>\n",
       "      <td>33.533</td>\n",
       "      <td>2010-11-19</td>\n",
       "      <td>Harry Potter and the Deathly Hallows: Part 1</td>\n",
       "      <td>7.7</td>\n",
       "      <td>10788</td>\n",
       "      <td>Family</td>\n",
       "    </tr>\n",
       "    <tr>\n",
       "      <th>1</th>\n",
       "      <td>1</td>\n",
       "      <td>[14, 12, 16, 10751]</td>\n",
       "      <td>10191</td>\n",
       "      <td>en</td>\n",
       "      <td>How to Train Your Dragon</td>\n",
       "      <td>28.734</td>\n",
       "      <td>2010-03-26</td>\n",
       "      <td>How to Train Your Dragon</td>\n",
       "      <td>7.7</td>\n",
       "      <td>7610</td>\n",
       "      <td>Fantasy</td>\n",
       "    </tr>\n",
       "    <tr>\n",
       "      <th>1</th>\n",
       "      <td>1</td>\n",
       "      <td>[14, 12, 16, 10751]</td>\n",
       "      <td>10191</td>\n",
       "      <td>en</td>\n",
       "      <td>How to Train Your Dragon</td>\n",
       "      <td>28.734</td>\n",
       "      <td>2010-03-26</td>\n",
       "      <td>How to Train Your Dragon</td>\n",
       "      <td>7.7</td>\n",
       "      <td>7610</td>\n",
       "      <td>Adventure</td>\n",
       "    </tr>\n",
       "    <tr>\n",
       "      <th>...</th>\n",
       "      <td>...</td>\n",
       "      <td>...</td>\n",
       "      <td>...</td>\n",
       "      <td>...</td>\n",
       "      <td>...</td>\n",
       "      <td>...</td>\n",
       "      <td>...</td>\n",
       "      <td>...</td>\n",
       "      <td>...</td>\n",
       "      <td>...</td>\n",
       "      <td>...</td>\n",
       "    </tr>\n",
       "    <tr>\n",
       "      <th>26515</th>\n",
       "      <td>26515</td>\n",
       "      <td>[10751, 12, 28]</td>\n",
       "      <td>366854</td>\n",
       "      <td>en</td>\n",
       "      <td>Trailer Made</td>\n",
       "      <td>0.600</td>\n",
       "      <td>2018-06-22</td>\n",
       "      <td>Trailer Made</td>\n",
       "      <td>0.0</td>\n",
       "      <td>1</td>\n",
       "      <td>Family</td>\n",
       "    </tr>\n",
       "    <tr>\n",
       "      <th>26515</th>\n",
       "      <td>26515</td>\n",
       "      <td>[10751, 12, 28]</td>\n",
       "      <td>366854</td>\n",
       "      <td>en</td>\n",
       "      <td>Trailer Made</td>\n",
       "      <td>0.600</td>\n",
       "      <td>2018-06-22</td>\n",
       "      <td>Trailer Made</td>\n",
       "      <td>0.0</td>\n",
       "      <td>1</td>\n",
       "      <td>Adventure</td>\n",
       "    </tr>\n",
       "    <tr>\n",
       "      <th>26515</th>\n",
       "      <td>26515</td>\n",
       "      <td>[10751, 12, 28]</td>\n",
       "      <td>366854</td>\n",
       "      <td>en</td>\n",
       "      <td>Trailer Made</td>\n",
       "      <td>0.600</td>\n",
       "      <td>2018-06-22</td>\n",
       "      <td>Trailer Made</td>\n",
       "      <td>0.0</td>\n",
       "      <td>1</td>\n",
       "      <td>Action</td>\n",
       "    </tr>\n",
       "    <tr>\n",
       "      <th>26516</th>\n",
       "      <td>26516</td>\n",
       "      <td>[53, 27]</td>\n",
       "      <td>309885</td>\n",
       "      <td>en</td>\n",
       "      <td>The Church</td>\n",
       "      <td>0.600</td>\n",
       "      <td>2018-10-05</td>\n",
       "      <td>The Church</td>\n",
       "      <td>0.0</td>\n",
       "      <td>1</td>\n",
       "      <td>Thriller</td>\n",
       "    </tr>\n",
       "    <tr>\n",
       "      <th>26516</th>\n",
       "      <td>26516</td>\n",
       "      <td>[53, 27]</td>\n",
       "      <td>309885</td>\n",
       "      <td>en</td>\n",
       "      <td>The Church</td>\n",
       "      <td>0.600</td>\n",
       "      <td>2018-10-05</td>\n",
       "      <td>The Church</td>\n",
       "      <td>0.0</td>\n",
       "      <td>1</td>\n",
       "      <td>Horror</td>\n",
       "    </tr>\n",
       "  </tbody>\n",
       "</table>\n",
       "<p>47834 rows × 11 columns</p>\n",
       "</div>"
      ],
      "text/plain": [
       "       Unnamed: 0            genre_ids      id original_language  \\\n",
       "0               0      [12, 14, 10751]   12444                en   \n",
       "0               0      [12, 14, 10751]   12444                en   \n",
       "0               0      [12, 14, 10751]   12444                en   \n",
       "1               1  [14, 12, 16, 10751]   10191                en   \n",
       "1               1  [14, 12, 16, 10751]   10191                en   \n",
       "...           ...                  ...     ...               ...   \n",
       "26515       26515      [10751, 12, 28]  366854                en   \n",
       "26515       26515      [10751, 12, 28]  366854                en   \n",
       "26515       26515      [10751, 12, 28]  366854                en   \n",
       "26516       26516             [53, 27]  309885                en   \n",
       "26516       26516             [53, 27]  309885                en   \n",
       "\n",
       "                                     original_title  popularity release_date  \\\n",
       "0      Harry Potter and the Deathly Hallows: Part 1      33.533   2010-11-19   \n",
       "0      Harry Potter and the Deathly Hallows: Part 1      33.533   2010-11-19   \n",
       "0      Harry Potter and the Deathly Hallows: Part 1      33.533   2010-11-19   \n",
       "1                          How to Train Your Dragon      28.734   2010-03-26   \n",
       "1                          How to Train Your Dragon      28.734   2010-03-26   \n",
       "...                                             ...         ...          ...   \n",
       "26515                                  Trailer Made       0.600   2018-06-22   \n",
       "26515                                  Trailer Made       0.600   2018-06-22   \n",
       "26515                                  Trailer Made       0.600   2018-06-22   \n",
       "26516                                    The Church       0.600   2018-10-05   \n",
       "26516                                    The Church       0.600   2018-10-05   \n",
       "\n",
       "                                              title  vote_average  vote_count  \\\n",
       "0      Harry Potter and the Deathly Hallows: Part 1           7.7       10788   \n",
       "0      Harry Potter and the Deathly Hallows: Part 1           7.7       10788   \n",
       "0      Harry Potter and the Deathly Hallows: Part 1           7.7       10788   \n",
       "1                          How to Train Your Dragon           7.7        7610   \n",
       "1                          How to Train Your Dragon           7.7        7610   \n",
       "...                                             ...           ...         ...   \n",
       "26515                                  Trailer Made           0.0           1   \n",
       "26515                                  Trailer Made           0.0           1   \n",
       "26515                                  Trailer Made           0.0           1   \n",
       "26516                                    The Church           0.0           1   \n",
       "26516                                    The Church           0.0           1   \n",
       "\n",
       "      genre_names  \n",
       "0       Adventure  \n",
       "0         Fantasy  \n",
       "0          Family  \n",
       "1         Fantasy  \n",
       "1       Adventure  \n",
       "...           ...  \n",
       "26515      Family  \n",
       "26515   Adventure  \n",
       "26515      Action  \n",
       "26516    Thriller  \n",
       "26516      Horror  \n",
       "\n",
       "[47834 rows x 11 columns]"
      ]
     },
     "execution_count": 104,
     "metadata": {},
     "output_type": "execute_result"
    }
   ],
   "source": [
    "exploded_genre_df"
   ]
  },
  {
   "cell_type": "markdown",
   "metadata": {},
   "source": [
    "### Created a bar plot for genres grouped by average popularity"
   ]
  },
  {
   "cell_type": "code",
   "execution_count": 105,
   "metadata": {},
   "outputs": [
    {
     "name": "stderr",
     "output_type": "stream",
     "text": [
      "/Users/ashfa/miniconda3/envs/learn-env/lib/python3.8/site-packages/seaborn/_decorators.py:36: FutureWarning: Pass the following variables as keyword args: x, y. From version 0.12, the only valid positional argument will be `data`, and passing other arguments without an explicit keyword will result in an error or misinterpretation.\n",
      "  warnings.warn(\n"
     ]
    },
    {
     "data": {
      "text/plain": [
       "(array([ 0,  1,  2,  3,  4,  5,  6,  7,  8,  9, 10, 11, 12, 13, 14, 15, 16,\n",
       "        17, 18]),\n",
       " [Text(0, 0, 'Action'),\n",
       "  Text(1, 0, 'Adventure'),\n",
       "  Text(2, 0, 'Animation'),\n",
       "  Text(3, 0, 'Comedy'),\n",
       "  Text(4, 0, 'Crime'),\n",
       "  Text(5, 0, 'Documentary'),\n",
       "  Text(6, 0, 'Drama'),\n",
       "  Text(7, 0, 'Family'),\n",
       "  Text(8, 0, 'Fantasy'),\n",
       "  Text(9, 0, 'History'),\n",
       "  Text(10, 0, 'Horror'),\n",
       "  Text(11, 0, 'Music'),\n",
       "  Text(12, 0, 'Mystery'),\n",
       "  Text(13, 0, 'Romance'),\n",
       "  Text(14, 0, 'Science Fiction'),\n",
       "  Text(15, 0, 'TV Movie'),\n",
       "  Text(16, 0, 'Thriller'),\n",
       "  Text(17, 0, 'War'),\n",
       "  Text(18, 0, 'Western')])"
      ]
     },
     "execution_count": 105,
     "metadata": {},
     "output_type": "execute_result"
    },
    {
     "data": {
      "image/png": "[encoded data removed]",
      "text/plain": [
       "<Figure size 432x288 with 1 Axes>"
      ]
     },
     "metadata": {},
     "output_type": "display_data"
    }
   ],
   "source": [
    "fix, ax = plt.subplots()\n",
    "sns.barplot(exploded_genre_df.groupby('genre_names')['popularity'].mean().index,\n",
    "            exploded_genre_df.groupby('genre_names')['popularity'].mean().values)\n",
    "plt.xticks(rotation=45, ha='right')"
   ]
  },
  {
   "cell_type": "code",
   "execution_count": 149,
   "metadata": {},
   "outputs": [
    {
     "name": "stderr",
     "output_type": "stream",
     "text": [
      "/Users/ashfa/miniconda3/envs/learn-env/lib/python3.8/site-packages/seaborn/_decorators.py:36: FutureWarning: Pass the following variables as keyword args: x, y. From version 0.12, the only valid positional argument will be `data`, and passing other arguments without an explicit keyword will result in an error or misinterpretation.\n",
      "  warnings.warn(\n"
     ]
    },
    {
     "data": {
      "image/png": "[encoded data removed]",
      "text/plain": [
       "<Figure size 720x432 with 1 Axes>"
      ]
     },
     "metadata": {},
     "output_type": "display_data"
    }
   ],
   "source": [
    "fix, ax = plt.subplots(1,1, figsize=(10,6))\n",
    "sns.barplot(exploded_genre_df.groupby('genre_names')['popularity'].mean().index,\n",
    "            exploded_genre_df.groupby('genre_names')['popularity'].mean().values,\n",
    "            palette = \"Spectral\")\n",
    "            \n",
    "plt.xticks(rotation=45, ha='right')\n",
    "\n",
    "plt.xlabel('Genres', fontsize =16)\n",
    "plt.ylabel('Average Popularity', fontsize =16)\n",
    "ax.set_title('Average Popularity of Movie Genres', fontsize= 20)\n",
    "for p in ax.patches:\n",
    "    _x = p.get_x() + p.get_width() / 2\n",
    "    _y = p.get_y() + p.get_height() + (p.get_height()*0.01)\n",
    "    value = '{:.1f}'.format(p.get_height())\n",
    "    ax.text(_x, _y, value, ha=\"center\", fontsize=10) \n",
    "plt.savefig(\"Average Popularity of Movie Genres.jpg\", bbox_inches='tight')\n"
   ]
  },
  {
   "cell_type": "markdown",
   "metadata": {},
   "source": [
    "### Create a bar plot for genres grouped by voter average"
   ]
  },
  {
   "cell_type": "code",
   "execution_count": 148,
   "metadata": {
    "scrolled": false
   },
   "outputs": [
    {
     "name": "stderr",
     "output_type": "stream",
     "text": [
      "/Users/ashfa/miniconda3/envs/learn-env/lib/python3.8/site-packages/seaborn/_decorators.py:36: FutureWarning: Pass the following variables as keyword args: x, y. From version 0.12, the only valid positional argument will be `data`, and passing other arguments without an explicit keyword will result in an error or misinterpretation.\n",
      "  warnings.warn(\n"
     ]
    },
    {
     "data": {
      "image/png": "[encoded data removed]",
      "text/plain": [
       "<Figure size 720x432 with 1 Axes>"
      ]
     },
     "metadata": {},
     "output_type": "display_data"
    }
   ],
   "source": [
    "fix, ax = plt.subplots(1,1, figsize=(10,6))\n",
    "chart1 = sns.barplot(exploded_genre_df.groupby('genre_names')['vote_average'].mean().index,\n",
    "            exploded_genre_df.groupby('genre_names')['vote_average'].mean().values,\n",
    "            palette = \"Spectral\")\n",
    "            \n",
    "plt.xticks(rotation=45, ha='right')\n",
    "chart1.set_title('Average Rating of Movie Genres', fontdict={'size': 25, 'color': 'black'})\n",
    "plt.xlabel('Genres', fontsize=16);\n",
    "plt.ylabel('Average Rating', fontsize=16);\n",
    "ax.set_title('Average Rating of Movie Genres', fontsize = 20)\n",
    "\n",
    "\n",
    "for p in ax.patches:\n",
    "    _x = p.get_x() + p.get_width() / 2\n",
    "    _y = p.get_y() + p.get_height() + (p.get_height()*0.01)\n",
    "    value = '{:.1f}'.format(p.get_height())\n",
    "    ax.text(_x, _y, value, ha=\"center\", fontsize=10) \n",
    "plt.savefig(\"Average Rating of Movie Genres.jpg\", bbox_inches='tight')"
   ]
  },
  {
   "cell_type": "markdown",
   "metadata": {},
   "source": [
    "### Made a scatterplot to see if average rating and average popularity have a correlation - they dont"
   ]
  },
  {
   "cell_type": "code",
   "execution_count": 147,
   "metadata": {},
   "outputs": [
    {
     "name": "stderr",
     "output_type": "stream",
     "text": [
      "/Users/ashfa/miniconda3/envs/learn-env/lib/python3.8/site-packages/seaborn/_decorators.py:36: FutureWarning: Pass the following variables as keyword args: x, y. From version 0.12, the only valid positional argument will be `data`, and passing other arguments without an explicit keyword will result in an error or misinterpretation.\n",
      "  warnings.warn(\n"
     ]
    },
    {
     "data": {
      "image/png": "[encoded data removed]",
      "text/plain": [
       "<Figure size 720x432 with 1 Axes>"
      ]
     },
     "metadata": {},
     "output_type": "display_data"
    }
   ],
   "source": [
    "fix, ax = plt.subplots(1,1, figsize=(10,6))\n",
    "chart = sns.scatterplot(exploded_genre_df.groupby('genre_names')['vote_average'].mean().values,\n",
    "            exploded_genre_df.groupby('genre_names')['popularity'].mean().values,\n",
    "            palette = \"Spectral\",\n",
    "            s = 200)\n",
    "chart.set_title('Correlation Between Average Rating and Popularity of Movie Genres', fontdict={'size': 20, 'color': 'black'})\n",
    "plt.xlabel('Average Rating', fontsize = 16)\n",
    "plt.ylabel('Average Popularity', fontsize = 16)\n",
    "plt.savefig(\"average rating and average popularity.jpg\", bbox_inches='tight')\n"
   ]
  },
  {
   "cell_type": "markdown",
   "metadata": {},
   "source": [
    "### Sorted the exploded db_mov based on highest to lowest popularity"
   ]
  },
  {
   "cell_type": "code",
   "execution_count": 109,
   "metadata": {
    "scrolled": true
   },
   "outputs": [
    {
     "data": {
      "text/html": [
       "<div>\n",
       "<style scoped>\n",
       "    .dataframe tbody tr th:only-of-type {\n",
       "        vertical-align: middle;\n",
       "    }\n",
       "\n",
       "    .dataframe tbody tr th {\n",
       "        vertical-align: top;\n",
       "    }\n",
       "\n",
       "    .dataframe thead th {\n",
       "        text-align: right;\n",
       "    }\n",
       "</style>\n",
       "<table border=\"1\" class=\"dataframe\">\n",
       "  <thead>\n",
       "    <tr style=\"text-align: right;\">\n",
       "      <th></th>\n",
       "      <th>Unnamed: 0</th>\n",
       "      <th>genre_ids</th>\n",
       "      <th>id</th>\n",
       "      <th>original_language</th>\n",
       "      <th>original_title</th>\n",
       "      <th>popularity</th>\n",
       "      <th>release_date</th>\n",
       "      <th>title</th>\n",
       "      <th>vote_average</th>\n",
       "      <th>vote_count</th>\n",
       "      <th>genre_names</th>\n",
       "    </tr>\n",
       "  </thead>\n",
       "  <tbody>\n",
       "    <tr>\n",
       "      <th>23811</th>\n",
       "      <td>23811</td>\n",
       "      <td>[12, 28, 14]</td>\n",
       "      <td>299536</td>\n",
       "      <td>en</td>\n",
       "      <td>Avengers: Infinity War</td>\n",
       "      <td>80.773</td>\n",
       "      <td>2018-04-27</td>\n",
       "      <td>Avengers: Infinity War</td>\n",
       "      <td>8.3</td>\n",
       "      <td>13948</td>\n",
       "      <td>Adventure</td>\n",
       "    </tr>\n",
       "    <tr>\n",
       "      <th>23811</th>\n",
       "      <td>23811</td>\n",
       "      <td>[12, 28, 14]</td>\n",
       "      <td>299536</td>\n",
       "      <td>en</td>\n",
       "      <td>Avengers: Infinity War</td>\n",
       "      <td>80.773</td>\n",
       "      <td>2018-04-27</td>\n",
       "      <td>Avengers: Infinity War</td>\n",
       "      <td>8.3</td>\n",
       "      <td>13948</td>\n",
       "      <td>Fantasy</td>\n",
       "    </tr>\n",
       "    <tr>\n",
       "      <th>23811</th>\n",
       "      <td>23811</td>\n",
       "      <td>[12, 28, 14]</td>\n",
       "      <td>299536</td>\n",
       "      <td>en</td>\n",
       "      <td>Avengers: Infinity War</td>\n",
       "      <td>80.773</td>\n",
       "      <td>2018-04-27</td>\n",
       "      <td>Avengers: Infinity War</td>\n",
       "      <td>8.3</td>\n",
       "      <td>13948</td>\n",
       "      <td>Action</td>\n",
       "    </tr>\n",
       "    <tr>\n",
       "      <th>11019</th>\n",
       "      <td>11019</td>\n",
       "      <td>[28, 53]</td>\n",
       "      <td>245891</td>\n",
       "      <td>en</td>\n",
       "      <td>John Wick</td>\n",
       "      <td>78.123</td>\n",
       "      <td>2014-10-24</td>\n",
       "      <td>John Wick</td>\n",
       "      <td>7.2</td>\n",
       "      <td>10081</td>\n",
       "      <td>Action</td>\n",
       "    </tr>\n",
       "    <tr>\n",
       "      <th>11019</th>\n",
       "      <td>11019</td>\n",
       "      <td>[28, 53]</td>\n",
       "      <td>245891</td>\n",
       "      <td>en</td>\n",
       "      <td>John Wick</td>\n",
       "      <td>78.123</td>\n",
       "      <td>2014-10-24</td>\n",
       "      <td>John Wick</td>\n",
       "      <td>7.2</td>\n",
       "      <td>10081</td>\n",
       "      <td>Thriller</td>\n",
       "    </tr>\n",
       "    <tr>\n",
       "      <th>...</th>\n",
       "      <td>...</td>\n",
       "      <td>...</td>\n",
       "      <td>...</td>\n",
       "      <td>...</td>\n",
       "      <td>...</td>\n",
       "      <td>...</td>\n",
       "      <td>...</td>\n",
       "      <td>...</td>\n",
       "      <td>...</td>\n",
       "      <td>...</td>\n",
       "      <td>...</td>\n",
       "    </tr>\n",
       "    <tr>\n",
       "      <th>14022</th>\n",
       "      <td>14022</td>\n",
       "      <td>[10402]</td>\n",
       "      <td>285621</td>\n",
       "      <td>en</td>\n",
       "      <td>Spacehog: Summerland 2014</td>\n",
       "      <td>0.600</td>\n",
       "      <td>2014-06-26</td>\n",
       "      <td>Spacehog: Summerland 2014</td>\n",
       "      <td>4.0</td>\n",
       "      <td>2</td>\n",
       "      <td>Music</td>\n",
       "    </tr>\n",
       "    <tr>\n",
       "      <th>14023</th>\n",
       "      <td>14023</td>\n",
       "      <td>[35, 16, 12]</td>\n",
       "      <td>280890</td>\n",
       "      <td>en</td>\n",
       "      <td>Wings: Sky Force Heroes</td>\n",
       "      <td>0.600</td>\n",
       "      <td>2014-07-08</td>\n",
       "      <td>Wings: Sky Force Heroes</td>\n",
       "      <td>4.0</td>\n",
       "      <td>2</td>\n",
       "      <td>Comedy</td>\n",
       "    </tr>\n",
       "    <tr>\n",
       "      <th>14023</th>\n",
       "      <td>14023</td>\n",
       "      <td>[35, 16, 12]</td>\n",
       "      <td>280890</td>\n",
       "      <td>en</td>\n",
       "      <td>Wings: Sky Force Heroes</td>\n",
       "      <td>0.600</td>\n",
       "      <td>2014-07-08</td>\n",
       "      <td>Wings: Sky Force Heroes</td>\n",
       "      <td>4.0</td>\n",
       "      <td>2</td>\n",
       "      <td>Animation</td>\n",
       "    </tr>\n",
       "    <tr>\n",
       "      <th>14023</th>\n",
       "      <td>14023</td>\n",
       "      <td>[35, 16, 12]</td>\n",
       "      <td>280890</td>\n",
       "      <td>en</td>\n",
       "      <td>Wings: Sky Force Heroes</td>\n",
       "      <td>0.600</td>\n",
       "      <td>2014-07-08</td>\n",
       "      <td>Wings: Sky Force Heroes</td>\n",
       "      <td>4.0</td>\n",
       "      <td>2</td>\n",
       "      <td>Adventure</td>\n",
       "    </tr>\n",
       "    <tr>\n",
       "      <th>26516</th>\n",
       "      <td>26516</td>\n",
       "      <td>[53, 27]</td>\n",
       "      <td>309885</td>\n",
       "      <td>en</td>\n",
       "      <td>The Church</td>\n",
       "      <td>0.600</td>\n",
       "      <td>2018-10-05</td>\n",
       "      <td>The Church</td>\n",
       "      <td>0.0</td>\n",
       "      <td>1</td>\n",
       "      <td>Horror</td>\n",
       "    </tr>\n",
       "  </tbody>\n",
       "</table>\n",
       "<p>47834 rows × 11 columns</p>\n",
       "</div>"
      ],
      "text/plain": [
       "       Unnamed: 0     genre_ids      id original_language  \\\n",
       "23811       23811  [12, 28, 14]  299536                en   \n",
       "23811       23811  [12, 28, 14]  299536                en   \n",
       "23811       23811  [12, 28, 14]  299536                en   \n",
       "11019       11019      [28, 53]  245891                en   \n",
       "11019       11019      [28, 53]  245891                en   \n",
       "...           ...           ...     ...               ...   \n",
       "14022       14022       [10402]  285621                en   \n",
       "14023       14023  [35, 16, 12]  280890                en   \n",
       "14023       14023  [35, 16, 12]  280890                en   \n",
       "14023       14023  [35, 16, 12]  280890                en   \n",
       "26516       26516      [53, 27]  309885                en   \n",
       "\n",
       "                  original_title  popularity release_date  \\\n",
       "23811     Avengers: Infinity War      80.773   2018-04-27   \n",
       "23811     Avengers: Infinity War      80.773   2018-04-27   \n",
       "23811     Avengers: Infinity War      80.773   2018-04-27   \n",
       "11019                  John Wick      78.123   2014-10-24   \n",
       "11019                  John Wick      78.123   2014-10-24   \n",
       "...                          ...         ...          ...   \n",
       "14022  Spacehog: Summerland 2014       0.600   2014-06-26   \n",
       "14023    Wings: Sky Force Heroes       0.600   2014-07-08   \n",
       "14023    Wings: Sky Force Heroes       0.600   2014-07-08   \n",
       "14023    Wings: Sky Force Heroes       0.600   2014-07-08   \n",
       "26516                 The Church       0.600   2018-10-05   \n",
       "\n",
       "                           title  vote_average  vote_count genre_names  \n",
       "23811     Avengers: Infinity War           8.3       13948   Adventure  \n",
       "23811     Avengers: Infinity War           8.3       13948     Fantasy  \n",
       "23811     Avengers: Infinity War           8.3       13948      Action  \n",
       "11019                  John Wick           7.2       10081      Action  \n",
       "11019                  John Wick           7.2       10081    Thriller  \n",
       "...                          ...           ...         ...         ...  \n",
       "14022  Spacehog: Summerland 2014           4.0           2       Music  \n",
       "14023    Wings: Sky Force Heroes           4.0           2      Comedy  \n",
       "14023    Wings: Sky Force Heroes           4.0           2   Animation  \n",
       "14023    Wings: Sky Force Heroes           4.0           2   Adventure  \n",
       "26516                 The Church           0.0           1      Horror  \n",
       "\n",
       "[47834 rows x 11 columns]"
      ]
     },
     "execution_count": 109,
     "metadata": {},
     "output_type": "execute_result"
    }
   ],
   "source": [
    "exploded_genre_df.sort_values(by = 'popularity', ascending = False)"
   ]
  },
  {
   "cell_type": "markdown",
   "metadata": {},
   "source": [
    "### Looked at Rotten Tomato dataset and exploded the genres "
   ]
  },
  {
   "cell_type": "code",
   "execution_count": 110,
   "metadata": {},
   "outputs": [
    {
     "data": {
      "text/html": [
       "<div>\n",
       "<style scoped>\n",
       "    .dataframe tbody tr th:only-of-type {\n",
       "        vertical-align: middle;\n",
       "    }\n",
       "\n",
       "    .dataframe tbody tr th {\n",
       "        vertical-align: top;\n",
       "    }\n",
       "\n",
       "    .dataframe thead th {\n",
       "        text-align: right;\n",
       "    }\n",
       "</style>\n",
       "<table border=\"1\" class=\"dataframe\">\n",
       "  <thead>\n",
       "    <tr style=\"text-align: right;\">\n",
       "      <th></th>\n",
       "      <th>rotten_tomatoes_link</th>\n",
       "      <th>movie_title</th>\n",
       "      <th>movie_info</th>\n",
       "      <th>critics_consensus</th>\n",
       "      <th>content_rating</th>\n",
       "      <th>genres</th>\n",
       "      <th>directors</th>\n",
       "      <th>authors</th>\n",
       "      <th>actors</th>\n",
       "      <th>original_release_date</th>\n",
       "      <th>...</th>\n",
       "      <th>production_company</th>\n",
       "      <th>tomatometer_status</th>\n",
       "      <th>tomatometer_rating</th>\n",
       "      <th>tomatometer_count</th>\n",
       "      <th>audience_status</th>\n",
       "      <th>audience_rating</th>\n",
       "      <th>audience_count</th>\n",
       "      <th>tomatometer_top_critics_count</th>\n",
       "      <th>tomatometer_fresh_critics_count</th>\n",
       "      <th>tomatometer_rotten_critics_count</th>\n",
       "    </tr>\n",
       "  </thead>\n",
       "  <tbody>\n",
       "    <tr>\n",
       "      <th>0</th>\n",
       "      <td>m/0814255</td>\n",
       "      <td>Percy Jackson &amp; the Olympians: The Lightning T...</td>\n",
       "      <td>Always trouble-prone, the life of teenager Per...</td>\n",
       "      <td>Though it may seem like just another Harry Pot...</td>\n",
       "      <td>PG</td>\n",
       "      <td>Action &amp; Adventure, Comedy, Drama, Science Fic...</td>\n",
       "      <td>Chris Columbus</td>\n",
       "      <td>Craig Titley, Chris Columbus, Rick Riordan</td>\n",
       "      <td>Logan Lerman, Brandon T. Jackson, Alexandra Da...</td>\n",
       "      <td>2010-02-12</td>\n",
       "      <td>...</td>\n",
       "      <td>20th Century Fox</td>\n",
       "      <td>Rotten</td>\n",
       "      <td>49.0</td>\n",
       "      <td>149.0</td>\n",
       "      <td>Spilled</td>\n",
       "      <td>53.0</td>\n",
       "      <td>254421.0</td>\n",
       "      <td>43</td>\n",
       "      <td>73</td>\n",
       "      <td>76</td>\n",
       "    </tr>\n",
       "    <tr>\n",
       "      <th>1</th>\n",
       "      <td>m/0878835</td>\n",
       "      <td>Please Give</td>\n",
       "      <td>Kate (Catherine Keener) and her husband Alex (...</td>\n",
       "      <td>Nicole Holofcener's newest might seem slight i...</td>\n",
       "      <td>R</td>\n",
       "      <td>Comedy</td>\n",
       "      <td>Nicole Holofcener</td>\n",
       "      <td>Nicole Holofcener</td>\n",
       "      <td>Catherine Keener, Amanda Peet, Oliver Platt, R...</td>\n",
       "      <td>2010-04-30</td>\n",
       "      <td>...</td>\n",
       "      <td>Sony Pictures Classics</td>\n",
       "      <td>Certified-Fresh</td>\n",
       "      <td>87.0</td>\n",
       "      <td>142.0</td>\n",
       "      <td>Upright</td>\n",
       "      <td>64.0</td>\n",
       "      <td>11574.0</td>\n",
       "      <td>44</td>\n",
       "      <td>123</td>\n",
       "      <td>19</td>\n",
       "    </tr>\n",
       "    <tr>\n",
       "      <th>2</th>\n",
       "      <td>m/10</td>\n",
       "      <td>10</td>\n",
       "      <td>A successful, middle-aged Hollywood songwriter...</td>\n",
       "      <td>Blake Edwards' bawdy comedy may not score a pe...</td>\n",
       "      <td>R</td>\n",
       "      <td>Comedy, Romance</td>\n",
       "      <td>Blake Edwards</td>\n",
       "      <td>Blake Edwards</td>\n",
       "      <td>Dudley Moore, Bo Derek, Julie Andrews, Robert ...</td>\n",
       "      <td>1979-10-05</td>\n",
       "      <td>...</td>\n",
       "      <td>Waner Bros.</td>\n",
       "      <td>Fresh</td>\n",
       "      <td>67.0</td>\n",
       "      <td>24.0</td>\n",
       "      <td>Spilled</td>\n",
       "      <td>53.0</td>\n",
       "      <td>14684.0</td>\n",
       "      <td>2</td>\n",
       "      <td>16</td>\n",
       "      <td>8</td>\n",
       "    </tr>\n",
       "    <tr>\n",
       "      <th>3</th>\n",
       "      <td>m/1000013-12_angry_men</td>\n",
       "      <td>12 Angry Men (Twelve Angry Men)</td>\n",
       "      <td>Following the closing arguments in a murder tr...</td>\n",
       "      <td>Sidney Lumet's feature debut is a superbly wri...</td>\n",
       "      <td>NR</td>\n",
       "      <td>Classics, Drama</td>\n",
       "      <td>Sidney Lumet</td>\n",
       "      <td>Reginald Rose</td>\n",
       "      <td>Martin Balsam, John Fiedler, Lee J. Cobb, E.G....</td>\n",
       "      <td>1957-04-13</td>\n",
       "      <td>...</td>\n",
       "      <td>Criterion Collection</td>\n",
       "      <td>Certified-Fresh</td>\n",
       "      <td>100.0</td>\n",
       "      <td>54.0</td>\n",
       "      <td>Upright</td>\n",
       "      <td>97.0</td>\n",
       "      <td>105386.0</td>\n",
       "      <td>6</td>\n",
       "      <td>54</td>\n",
       "      <td>0</td>\n",
       "    </tr>\n",
       "    <tr>\n",
       "      <th>4</th>\n",
       "      <td>m/1000079-20000_leagues_under_the_sea</td>\n",
       "      <td>20,000 Leagues Under The Sea</td>\n",
       "      <td>In 1866, Professor Pierre M. Aronnax (Paul Luk...</td>\n",
       "      <td>One of Disney's finest live-action adventures,...</td>\n",
       "      <td>G</td>\n",
       "      <td>Action &amp; Adventure, Drama, Kids &amp; Family</td>\n",
       "      <td>Richard Fleischer</td>\n",
       "      <td>Earl Felton</td>\n",
       "      <td>James Mason, Kirk Douglas, Paul Lukas, Peter L...</td>\n",
       "      <td>1954-01-01</td>\n",
       "      <td>...</td>\n",
       "      <td>Disney</td>\n",
       "      <td>Fresh</td>\n",
       "      <td>89.0</td>\n",
       "      <td>27.0</td>\n",
       "      <td>Upright</td>\n",
       "      <td>74.0</td>\n",
       "      <td>68918.0</td>\n",
       "      <td>5</td>\n",
       "      <td>24</td>\n",
       "      <td>3</td>\n",
       "    </tr>\n",
       "    <tr>\n",
       "      <th>...</th>\n",
       "      <td>...</td>\n",
       "      <td>...</td>\n",
       "      <td>...</td>\n",
       "      <td>...</td>\n",
       "      <td>...</td>\n",
       "      <td>...</td>\n",
       "      <td>...</td>\n",
       "      <td>...</td>\n",
       "      <td>...</td>\n",
       "      <td>...</td>\n",
       "      <td>...</td>\n",
       "      <td>...</td>\n",
       "      <td>...</td>\n",
       "      <td>...</td>\n",
       "      <td>...</td>\n",
       "      <td>...</td>\n",
       "      <td>...</td>\n",
       "      <td>...</td>\n",
       "      <td>...</td>\n",
       "      <td>...</td>\n",
       "      <td>...</td>\n",
       "    </tr>\n",
       "    <tr>\n",
       "      <th>17707</th>\n",
       "      <td>m/zoot_suit</td>\n",
       "      <td>Zoot Suit</td>\n",
       "      <td>Mexican-American gangster Henry Reyna (Daniel ...</td>\n",
       "      <td>NaN</td>\n",
       "      <td>R</td>\n",
       "      <td>Drama, Musical &amp; Performing Arts</td>\n",
       "      <td>Luis Valdez</td>\n",
       "      <td>Luis Valdez</td>\n",
       "      <td>Daniel Valdez, Edward James Olmos, Charles Aid...</td>\n",
       "      <td>1981-10-02</td>\n",
       "      <td>...</td>\n",
       "      <td>MCA Universal Home Video</td>\n",
       "      <td>Rotten</td>\n",
       "      <td>56.0</td>\n",
       "      <td>9.0</td>\n",
       "      <td>Upright</td>\n",
       "      <td>74.0</td>\n",
       "      <td>1195.0</td>\n",
       "      <td>2</td>\n",
       "      <td>5</td>\n",
       "      <td>4</td>\n",
       "    </tr>\n",
       "    <tr>\n",
       "      <th>17708</th>\n",
       "      <td>m/zootopia</td>\n",
       "      <td>Zootopia</td>\n",
       "      <td>From the largest elephant to the smallest shre...</td>\n",
       "      <td>The brilliantly well-rounded Zootopia offers a...</td>\n",
       "      <td>PG</td>\n",
       "      <td>Action &amp; Adventure, Animation, Comedy</td>\n",
       "      <td>Byron Howard, Rich Moore, Jared Bush</td>\n",
       "      <td>Jared Bush, Phil Johnston</td>\n",
       "      <td>J.K. Simmons, Kristen Bell, Octavia Spencer, A...</td>\n",
       "      <td>2016-03-04</td>\n",
       "      <td>...</td>\n",
       "      <td>Walt Disney Animation Studios</td>\n",
       "      <td>Certified-Fresh</td>\n",
       "      <td>98.0</td>\n",
       "      <td>291.0</td>\n",
       "      <td>Upright</td>\n",
       "      <td>92.0</td>\n",
       "      <td>101511.0</td>\n",
       "      <td>50</td>\n",
       "      <td>285</td>\n",
       "      <td>7</td>\n",
       "    </tr>\n",
       "    <tr>\n",
       "      <th>17709</th>\n",
       "      <td>m/zorba_the_greek</td>\n",
       "      <td>Zorba the Greek</td>\n",
       "      <td>Traveling to inspect an abandoned mine his fat...</td>\n",
       "      <td>NaN</td>\n",
       "      <td>NR</td>\n",
       "      <td>Action &amp; Adventure, Art House &amp; International,...</td>\n",
       "      <td>NaN</td>\n",
       "      <td>NaN</td>\n",
       "      <td>Anthony Quinn, Alan Bates, Irene Papas, Lila K...</td>\n",
       "      <td>1964-12-17</td>\n",
       "      <td>...</td>\n",
       "      <td>Fox</td>\n",
       "      <td>Fresh</td>\n",
       "      <td>80.0</td>\n",
       "      <td>10.0</td>\n",
       "      <td>Upright</td>\n",
       "      <td>86.0</td>\n",
       "      <td>7146.0</td>\n",
       "      <td>0</td>\n",
       "      <td>8</td>\n",
       "      <td>2</td>\n",
       "    </tr>\n",
       "    <tr>\n",
       "      <th>17710</th>\n",
       "      <td>m/zulu</td>\n",
       "      <td>Zulu</td>\n",
       "      <td>In 1879, the Zulu nation hands colonial Britis...</td>\n",
       "      <td>Zulu patiently establishes a cast of colorful ...</td>\n",
       "      <td>PG</td>\n",
       "      <td>Classics, Drama</td>\n",
       "      <td>Cy Endfield, Cyril Endfield</td>\n",
       "      <td>Cy Endfield, John Prebble</td>\n",
       "      <td>Stanley Baker, Jack Hawkins, Ulla Jacobsson, J...</td>\n",
       "      <td>1964-06-17</td>\n",
       "      <td>...</td>\n",
       "      <td>Paramount Pictures</td>\n",
       "      <td>Fresh</td>\n",
       "      <td>96.0</td>\n",
       "      <td>23.0</td>\n",
       "      <td>Upright</td>\n",
       "      <td>91.0</td>\n",
       "      <td>30193.0</td>\n",
       "      <td>6</td>\n",
       "      <td>22</td>\n",
       "      <td>1</td>\n",
       "    </tr>\n",
       "    <tr>\n",
       "      <th>17711</th>\n",
       "      <td>m/zulu_dawn</td>\n",
       "      <td>Zulu Dawn</td>\n",
       "      <td>Sir Henry Bartle Frere's (John Mills) vastly o...</td>\n",
       "      <td>NaN</td>\n",
       "      <td>PG</td>\n",
       "      <td>Action &amp; Adventure, Art House &amp; International,...</td>\n",
       "      <td>Douglas Hickox</td>\n",
       "      <td>Cy Endfield, Anthony Storey</td>\n",
       "      <td>Burt Lancaster, Peter O'Toole, Simon Ward, Joh...</td>\n",
       "      <td>1979-12-14</td>\n",
       "      <td>...</td>\n",
       "      <td>Tango Entertainment</td>\n",
       "      <td>Rotten</td>\n",
       "      <td>50.0</td>\n",
       "      <td>8.0</td>\n",
       "      <td>Upright</td>\n",
       "      <td>62.0</td>\n",
       "      <td>4469.0</td>\n",
       "      <td>0</td>\n",
       "      <td>4</td>\n",
       "      <td>4</td>\n",
       "    </tr>\n",
       "  </tbody>\n",
       "</table>\n",
       "<p>17712 rows × 22 columns</p>\n",
       "</div>"
      ],
      "text/plain": [
       "                        rotten_tomatoes_link  \\\n",
       "0                                  m/0814255   \n",
       "1                                  m/0878835   \n",
       "2                                       m/10   \n",
       "3                     m/1000013-12_angry_men   \n",
       "4      m/1000079-20000_leagues_under_the_sea   \n",
       "...                                      ...   \n",
       "17707                            m/zoot_suit   \n",
       "17708                             m/zootopia   \n",
       "17709                      m/zorba_the_greek   \n",
       "17710                                 m/zulu   \n",
       "17711                            m/zulu_dawn   \n",
       "\n",
       "                                             movie_title  \\\n",
       "0      Percy Jackson & the Olympians: The Lightning T...   \n",
       "1                                            Please Give   \n",
       "2                                                     10   \n",
       "3                        12 Angry Men (Twelve Angry Men)   \n",
       "4                           20,000 Leagues Under The Sea   \n",
       "...                                                  ...   \n",
       "17707                                          Zoot Suit   \n",
       "17708                                           Zootopia   \n",
       "17709                                    Zorba the Greek   \n",
       "17710                                               Zulu   \n",
       "17711                                          Zulu Dawn   \n",
       "\n",
       "                                              movie_info  \\\n",
       "0      Always trouble-prone, the life of teenager Per...   \n",
       "1      Kate (Catherine Keener) and her husband Alex (...   \n",
       "2      A successful, middle-aged Hollywood songwriter...   \n",
       "3      Following the closing arguments in a murder tr...   \n",
       "4      In 1866, Professor Pierre M. Aronnax (Paul Luk...   \n",
       "...                                                  ...   \n",
       "17707  Mexican-American gangster Henry Reyna (Daniel ...   \n",
       "17708  From the largest elephant to the smallest shre...   \n",
       "17709  Traveling to inspect an abandoned mine his fat...   \n",
       "17710  In 1879, the Zulu nation hands colonial Britis...   \n",
       "17711  Sir Henry Bartle Frere's (John Mills) vastly o...   \n",
       "\n",
       "                                       critics_consensus content_rating  \\\n",
       "0      Though it may seem like just another Harry Pot...             PG   \n",
       "1      Nicole Holofcener's newest might seem slight i...              R   \n",
       "2      Blake Edwards' bawdy comedy may not score a pe...              R   \n",
       "3      Sidney Lumet's feature debut is a superbly wri...             NR   \n",
       "4      One of Disney's finest live-action adventures,...              G   \n",
       "...                                                  ...            ...   \n",
       "17707                                                NaN              R   \n",
       "17708  The brilliantly well-rounded Zootopia offers a...             PG   \n",
       "17709                                                NaN             NR   \n",
       "17710  Zulu patiently establishes a cast of colorful ...             PG   \n",
       "17711                                                NaN             PG   \n",
       "\n",
       "                                                  genres  \\\n",
       "0      Action & Adventure, Comedy, Drama, Science Fic...   \n",
       "1                                                 Comedy   \n",
       "2                                        Comedy, Romance   \n",
       "3                                        Classics, Drama   \n",
       "4               Action & Adventure, Drama, Kids & Family   \n",
       "...                                                  ...   \n",
       "17707                   Drama, Musical & Performing Arts   \n",
       "17708              Action & Adventure, Animation, Comedy   \n",
       "17709  Action & Adventure, Art House & International,...   \n",
       "17710                                    Classics, Drama   \n",
       "17711  Action & Adventure, Art House & International,...   \n",
       "\n",
       "                                  directors  \\\n",
       "0                            Chris Columbus   \n",
       "1                         Nicole Holofcener   \n",
       "2                             Blake Edwards   \n",
       "3                              Sidney Lumet   \n",
       "4                         Richard Fleischer   \n",
       "...                                     ...   \n",
       "17707                           Luis Valdez   \n",
       "17708  Byron Howard, Rich Moore, Jared Bush   \n",
       "17709                                   NaN   \n",
       "17710           Cy Endfield, Cyril Endfield   \n",
       "17711                        Douglas Hickox   \n",
       "\n",
       "                                          authors  \\\n",
       "0      Craig Titley, Chris Columbus, Rick Riordan   \n",
       "1                               Nicole Holofcener   \n",
       "2                                   Blake Edwards   \n",
       "3                                   Reginald Rose   \n",
       "4                                     Earl Felton   \n",
       "...                                           ...   \n",
       "17707                                 Luis Valdez   \n",
       "17708                   Jared Bush, Phil Johnston   \n",
       "17709                                         NaN   \n",
       "17710                   Cy Endfield, John Prebble   \n",
       "17711                 Cy Endfield, Anthony Storey   \n",
       "\n",
       "                                                  actors  \\\n",
       "0      Logan Lerman, Brandon T. Jackson, Alexandra Da...   \n",
       "1      Catherine Keener, Amanda Peet, Oliver Platt, R...   \n",
       "2      Dudley Moore, Bo Derek, Julie Andrews, Robert ...   \n",
       "3      Martin Balsam, John Fiedler, Lee J. Cobb, E.G....   \n",
       "4      James Mason, Kirk Douglas, Paul Lukas, Peter L...   \n",
       "...                                                  ...   \n",
       "17707  Daniel Valdez, Edward James Olmos, Charles Aid...   \n",
       "17708  J.K. Simmons, Kristen Bell, Octavia Spencer, A...   \n",
       "17709  Anthony Quinn, Alan Bates, Irene Papas, Lila K...   \n",
       "17710  Stanley Baker, Jack Hawkins, Ulla Jacobsson, J...   \n",
       "17711  Burt Lancaster, Peter O'Toole, Simon Ward, Joh...   \n",
       "\n",
       "      original_release_date  ...             production_company  \\\n",
       "0                2010-02-12  ...               20th Century Fox   \n",
       "1                2010-04-30  ...         Sony Pictures Classics   \n",
       "2                1979-10-05  ...                    Waner Bros.   \n",
       "3                1957-04-13  ...           Criterion Collection   \n",
       "4                1954-01-01  ...                         Disney   \n",
       "...                     ...  ...                            ...   \n",
       "17707            1981-10-02  ...       MCA Universal Home Video   \n",
       "17708            2016-03-04  ...  Walt Disney Animation Studios   \n",
       "17709            1964-12-17  ...                            Fox   \n",
       "17710            1964-06-17  ...             Paramount Pictures   \n",
       "17711            1979-12-14  ...            Tango Entertainment   \n",
       "\n",
       "       tomatometer_status tomatometer_rating tomatometer_count  \\\n",
       "0                  Rotten               49.0             149.0   \n",
       "1         Certified-Fresh               87.0             142.0   \n",
       "2                   Fresh               67.0              24.0   \n",
       "3         Certified-Fresh              100.0              54.0   \n",
       "4                   Fresh               89.0              27.0   \n",
       "...                   ...                ...               ...   \n",
       "17707              Rotten               56.0               9.0   \n",
       "17708     Certified-Fresh               98.0             291.0   \n",
       "17709               Fresh               80.0              10.0   \n",
       "17710               Fresh               96.0              23.0   \n",
       "17711              Rotten               50.0               8.0   \n",
       "\n",
       "       audience_status  audience_rating audience_count  \\\n",
       "0              Spilled             53.0       254421.0   \n",
       "1              Upright             64.0        11574.0   \n",
       "2              Spilled             53.0        14684.0   \n",
       "3              Upright             97.0       105386.0   \n",
       "4              Upright             74.0        68918.0   \n",
       "...                ...              ...            ...   \n",
       "17707          Upright             74.0         1195.0   \n",
       "17708          Upright             92.0       101511.0   \n",
       "17709          Upright             86.0         7146.0   \n",
       "17710          Upright             91.0        30193.0   \n",
       "17711          Upright             62.0         4469.0   \n",
       "\n",
       "       tomatometer_top_critics_count  tomatometer_fresh_critics_count  \\\n",
       "0                                 43                               73   \n",
       "1                                 44                              123   \n",
       "2                                  2                               16   \n",
       "3                                  6                               54   \n",
       "4                                  5                               24   \n",
       "...                              ...                              ...   \n",
       "17707                              2                                5   \n",
       "17708                             50                              285   \n",
       "17709                              0                                8   \n",
       "17710                              6                               22   \n",
       "17711                              0                                4   \n",
       "\n",
       "       tomatometer_rotten_critics_count  \n",
       "0                                    76  \n",
       "1                                    19  \n",
       "2                                     8  \n",
       "3                                     0  \n",
       "4                                     3  \n",
       "...                                 ...  \n",
       "17707                                 4  \n",
       "17708                                 7  \n",
       "17709                                 2  \n",
       "17710                                 1  \n",
       "17711                                 4  \n",
       "\n",
       "[17712 rows x 22 columns]"
      ]
     },
     "execution_count": 110,
     "metadata": {},
     "output_type": "execute_result"
    }
   ],
   "source": [
    "rot_tom"
   ]
  },
  {
   "cell_type": "code",
   "execution_count": 111,
   "metadata": {},
   "outputs": [],
   "source": [
    "rot_tom['genre_names'] = rot_tom['genres'].str.split(',')"
   ]
  },
  {
   "cell_type": "code",
   "execution_count": 112,
   "metadata": {},
   "outputs": [],
   "source": [
    "rt_explode = rot_tom.explode('genre_names')"
   ]
  },
  {
   "cell_type": "code",
   "execution_count": 113,
   "metadata": {},
   "outputs": [
    {
     "data": {
      "text/plain": [
       "Index(['rotten_tomatoes_link', 'movie_title', 'movie_info',\n",
       "       'critics_consensus', 'content_rating', 'genres', 'directors', 'authors',\n",
       "       'actors', 'original_release_date', 'streaming_release_date', 'runtime',\n",
       "       'production_company', 'tomatometer_status', 'tomatometer_rating',\n",
       "       'tomatometer_count', 'audience_status', 'audience_rating',\n",
       "       'audience_count', 'tomatometer_top_critics_count',\n",
       "       'tomatometer_fresh_critics_count', 'tomatometer_rotten_critics_count',\n",
       "       'genre_names'],\n",
       "      dtype='object')"
      ]
     },
     "execution_count": 113,
     "metadata": {},
     "output_type": "execute_result"
    }
   ],
   "source": [
    "rt_explode.columns"
   ]
  },
  {
   "cell_type": "code",
   "execution_count": 114,
   "metadata": {},
   "outputs": [
    {
     "data": {
      "text/html": [
       "<div>\n",
       "<style scoped>\n",
       "    .dataframe tbody tr th:only-of-type {\n",
       "        vertical-align: middle;\n",
       "    }\n",
       "\n",
       "    .dataframe tbody tr th {\n",
       "        vertical-align: top;\n",
       "    }\n",
       "\n",
       "    .dataframe thead th {\n",
       "        text-align: right;\n",
       "    }\n",
       "</style>\n",
       "<table border=\"1\" class=\"dataframe\">\n",
       "  <thead>\n",
       "    <tr style=\"text-align: right;\">\n",
       "      <th></th>\n",
       "      <th>rotten_tomatoes_link</th>\n",
       "      <th>movie_title</th>\n",
       "      <th>movie_info</th>\n",
       "      <th>critics_consensus</th>\n",
       "      <th>content_rating</th>\n",
       "      <th>genres</th>\n",
       "      <th>directors</th>\n",
       "      <th>authors</th>\n",
       "      <th>actors</th>\n",
       "      <th>original_release_date</th>\n",
       "      <th>...</th>\n",
       "      <th>tomatometer_status</th>\n",
       "      <th>tomatometer_rating</th>\n",
       "      <th>tomatometer_count</th>\n",
       "      <th>audience_status</th>\n",
       "      <th>audience_rating</th>\n",
       "      <th>audience_count</th>\n",
       "      <th>tomatometer_top_critics_count</th>\n",
       "      <th>tomatometer_fresh_critics_count</th>\n",
       "      <th>tomatometer_rotten_critics_count</th>\n",
       "      <th>genre_names</th>\n",
       "    </tr>\n",
       "  </thead>\n",
       "  <tbody>\n",
       "    <tr>\n",
       "      <th>0</th>\n",
       "      <td>m/0814255</td>\n",
       "      <td>Percy Jackson &amp; the Olympians: The Lightning T...</td>\n",
       "      <td>Always trouble-prone, the life of teenager Per...</td>\n",
       "      <td>Though it may seem like just another Harry Pot...</td>\n",
       "      <td>PG</td>\n",
       "      <td>Action &amp; Adventure, Comedy, Drama, Science Fic...</td>\n",
       "      <td>Chris Columbus</td>\n",
       "      <td>Craig Titley, Chris Columbus, Rick Riordan</td>\n",
       "      <td>Logan Lerman, Brandon T. Jackson, Alexandra Da...</td>\n",
       "      <td>2010-02-12</td>\n",
       "      <td>...</td>\n",
       "      <td>Rotten</td>\n",
       "      <td>49.0</td>\n",
       "      <td>149.0</td>\n",
       "      <td>Spilled</td>\n",
       "      <td>53.0</td>\n",
       "      <td>254421.0</td>\n",
       "      <td>43</td>\n",
       "      <td>73</td>\n",
       "      <td>76</td>\n",
       "      <td>Action &amp; Adventure</td>\n",
       "    </tr>\n",
       "    <tr>\n",
       "      <th>0</th>\n",
       "      <td>m/0814255</td>\n",
       "      <td>Percy Jackson &amp; the Olympians: The Lightning T...</td>\n",
       "      <td>Always trouble-prone, the life of teenager Per...</td>\n",
       "      <td>Though it may seem like just another Harry Pot...</td>\n",
       "      <td>PG</td>\n",
       "      <td>Action &amp; Adventure, Comedy, Drama, Science Fic...</td>\n",
       "      <td>Chris Columbus</td>\n",
       "      <td>Craig Titley, Chris Columbus, Rick Riordan</td>\n",
       "      <td>Logan Lerman, Brandon T. Jackson, Alexandra Da...</td>\n",
       "      <td>2010-02-12</td>\n",
       "      <td>...</td>\n",
       "      <td>Rotten</td>\n",
       "      <td>49.0</td>\n",
       "      <td>149.0</td>\n",
       "      <td>Spilled</td>\n",
       "      <td>53.0</td>\n",
       "      <td>254421.0</td>\n",
       "      <td>43</td>\n",
       "      <td>73</td>\n",
       "      <td>76</td>\n",
       "      <td>Comedy</td>\n",
       "    </tr>\n",
       "    <tr>\n",
       "      <th>0</th>\n",
       "      <td>m/0814255</td>\n",
       "      <td>Percy Jackson &amp; the Olympians: The Lightning T...</td>\n",
       "      <td>Always trouble-prone, the life of teenager Per...</td>\n",
       "      <td>Though it may seem like just another Harry Pot...</td>\n",
       "      <td>PG</td>\n",
       "      <td>Action &amp; Adventure, Comedy, Drama, Science Fic...</td>\n",
       "      <td>Chris Columbus</td>\n",
       "      <td>Craig Titley, Chris Columbus, Rick Riordan</td>\n",
       "      <td>Logan Lerman, Brandon T. Jackson, Alexandra Da...</td>\n",
       "      <td>2010-02-12</td>\n",
       "      <td>...</td>\n",
       "      <td>Rotten</td>\n",
       "      <td>49.0</td>\n",
       "      <td>149.0</td>\n",
       "      <td>Spilled</td>\n",
       "      <td>53.0</td>\n",
       "      <td>254421.0</td>\n",
       "      <td>43</td>\n",
       "      <td>73</td>\n",
       "      <td>76</td>\n",
       "      <td>Drama</td>\n",
       "    </tr>\n",
       "    <tr>\n",
       "      <th>0</th>\n",
       "      <td>m/0814255</td>\n",
       "      <td>Percy Jackson &amp; the Olympians: The Lightning T...</td>\n",
       "      <td>Always trouble-prone, the life of teenager Per...</td>\n",
       "      <td>Though it may seem like just another Harry Pot...</td>\n",
       "      <td>PG</td>\n",
       "      <td>Action &amp; Adventure, Comedy, Drama, Science Fic...</td>\n",
       "      <td>Chris Columbus</td>\n",
       "      <td>Craig Titley, Chris Columbus, Rick Riordan</td>\n",
       "      <td>Logan Lerman, Brandon T. Jackson, Alexandra Da...</td>\n",
       "      <td>2010-02-12</td>\n",
       "      <td>...</td>\n",
       "      <td>Rotten</td>\n",
       "      <td>49.0</td>\n",
       "      <td>149.0</td>\n",
       "      <td>Spilled</td>\n",
       "      <td>53.0</td>\n",
       "      <td>254421.0</td>\n",
       "      <td>43</td>\n",
       "      <td>73</td>\n",
       "      <td>76</td>\n",
       "      <td>Science Fiction &amp; Fantasy</td>\n",
       "    </tr>\n",
       "    <tr>\n",
       "      <th>1</th>\n",
       "      <td>m/0878835</td>\n",
       "      <td>Please Give</td>\n",
       "      <td>Kate (Catherine Keener) and her husband Alex (...</td>\n",
       "      <td>Nicole Holofcener's newest might seem slight i...</td>\n",
       "      <td>R</td>\n",
       "      <td>Comedy</td>\n",
       "      <td>Nicole Holofcener</td>\n",
       "      <td>Nicole Holofcener</td>\n",
       "      <td>Catherine Keener, Amanda Peet, Oliver Platt, R...</td>\n",
       "      <td>2010-04-30</td>\n",
       "      <td>...</td>\n",
       "      <td>Certified-Fresh</td>\n",
       "      <td>87.0</td>\n",
       "      <td>142.0</td>\n",
       "      <td>Upright</td>\n",
       "      <td>64.0</td>\n",
       "      <td>11574.0</td>\n",
       "      <td>44</td>\n",
       "      <td>123</td>\n",
       "      <td>19</td>\n",
       "      <td>Comedy</td>\n",
       "    </tr>\n",
       "  </tbody>\n",
       "</table>\n",
       "<p>5 rows × 23 columns</p>\n",
       "</div>"
      ],
      "text/plain": [
       "  rotten_tomatoes_link                                        movie_title  \\\n",
       "0            m/0814255  Percy Jackson & the Olympians: The Lightning T...   \n",
       "0            m/0814255  Percy Jackson & the Olympians: The Lightning T...   \n",
       "0            m/0814255  Percy Jackson & the Olympians: The Lightning T...   \n",
       "0            m/0814255  Percy Jackson & the Olympians: The Lightning T...   \n",
       "1            m/0878835                                        Please Give   \n",
       "\n",
       "                                          movie_info  \\\n",
       "0  Always trouble-prone, the life of teenager Per...   \n",
       "0  Always trouble-prone, the life of teenager Per...   \n",
       "0  Always trouble-prone, the life of teenager Per...   \n",
       "0  Always trouble-prone, the life of teenager Per...   \n",
       "1  Kate (Catherine Keener) and her husband Alex (...   \n",
       "\n",
       "                                   critics_consensus content_rating  \\\n",
       "0  Though it may seem like just another Harry Pot...             PG   \n",
       "0  Though it may seem like just another Harry Pot...             PG   \n",
       "0  Though it may seem like just another Harry Pot...             PG   \n",
       "0  Though it may seem like just another Harry Pot...             PG   \n",
       "1  Nicole Holofcener's newest might seem slight i...              R   \n",
       "\n",
       "                                              genres          directors  \\\n",
       "0  Action & Adventure, Comedy, Drama, Science Fic...     Chris Columbus   \n",
       "0  Action & Adventure, Comedy, Drama, Science Fic...     Chris Columbus   \n",
       "0  Action & Adventure, Comedy, Drama, Science Fic...     Chris Columbus   \n",
       "0  Action & Adventure, Comedy, Drama, Science Fic...     Chris Columbus   \n",
       "1                                             Comedy  Nicole Holofcener   \n",
       "\n",
       "                                      authors  \\\n",
       "0  Craig Titley, Chris Columbus, Rick Riordan   \n",
       "0  Craig Titley, Chris Columbus, Rick Riordan   \n",
       "0  Craig Titley, Chris Columbus, Rick Riordan   \n",
       "0  Craig Titley, Chris Columbus, Rick Riordan   \n",
       "1                           Nicole Holofcener   \n",
       "\n",
       "                                              actors original_release_date  \\\n",
       "0  Logan Lerman, Brandon T. Jackson, Alexandra Da...            2010-02-12   \n",
       "0  Logan Lerman, Brandon T. Jackson, Alexandra Da...            2010-02-12   \n",
       "0  Logan Lerman, Brandon T. Jackson, Alexandra Da...            2010-02-12   \n",
       "0  Logan Lerman, Brandon T. Jackson, Alexandra Da...            2010-02-12   \n",
       "1  Catherine Keener, Amanda Peet, Oliver Platt, R...            2010-04-30   \n",
       "\n",
       "   ... tomatometer_status  tomatometer_rating tomatometer_count  \\\n",
       "0  ...             Rotten                49.0             149.0   \n",
       "0  ...             Rotten                49.0             149.0   \n",
       "0  ...             Rotten                49.0             149.0   \n",
       "0  ...             Rotten                49.0             149.0   \n",
       "1  ...    Certified-Fresh                87.0             142.0   \n",
       "\n",
       "  audience_status  audience_rating  audience_count  \\\n",
       "0         Spilled             53.0        254421.0   \n",
       "0         Spilled             53.0        254421.0   \n",
       "0         Spilled             53.0        254421.0   \n",
       "0         Spilled             53.0        254421.0   \n",
       "1         Upright             64.0         11574.0   \n",
       "\n",
       "  tomatometer_top_critics_count  tomatometer_fresh_critics_count  \\\n",
       "0                            43                               73   \n",
       "0                            43                               73   \n",
       "0                            43                               73   \n",
       "0                            43                               73   \n",
       "1                            44                              123   \n",
       "\n",
       "   tomatometer_rotten_critics_count                 genre_names  \n",
       "0                                76          Action & Adventure  \n",
       "0                                76                      Comedy  \n",
       "0                                76                       Drama  \n",
       "0                                76   Science Fiction & Fantasy  \n",
       "1                                19                      Comedy  \n",
       "\n",
       "[5 rows x 23 columns]"
      ]
     },
     "execution_count": 114,
     "metadata": {},
     "output_type": "execute_result"
    }
   ],
   "source": [
    "rt_explode.head()"
   ]
  },
  {
   "cell_type": "code",
   "execution_count": 115,
   "metadata": {},
   "outputs": [
    {
     "data": {
      "text/plain": [
       "genre_names\n",
       " Animation                    64.400000\n",
       " Anime & Manga                75.368421\n",
       " Art House & International    67.589099\n",
       " Classics                     76.865922\n",
       " Comedy                       61.928058\n",
       " Cult Movies                  63.573171\n",
       " Documentary                  77.208211\n",
       " Drama                        65.517241\n",
       " Faith & Spirituality         63.886076\n",
       " Gay & Lesbian                57.410256\n",
       " Horror                       55.831512\n",
       " Kids & Family                55.437676\n",
       " Musical & Performing Arts    71.010152\n",
       " Mystery & Suspense           55.983632\n",
       " Romance                      60.579031\n",
       " Science Fiction & Fantasy    55.866189\n",
       " Special Interest             77.463217\n",
       " Sports & Fitness             71.005618\n",
       " Television                   72.574627\n",
       " Western                      68.575342\n",
       "Action & Adventure            54.184359\n",
       "Animation                     63.882979\n",
       "Art House & International     71.829450\n",
       "Classics                      79.120721\n",
       "Comedy                        51.737692\n",
       "Cult Movies                   49.000000\n",
       "Documentary                   81.679070\n",
       "Drama                         59.766870\n",
       "Horror                        46.603191\n",
       "Kids & Family                 59.891304\n",
       "Musical & Performing Arts     70.730769\n",
       "Mystery & Suspense            47.777003\n",
       "Romance                       47.928571\n",
       "Science Fiction & Fantasy     58.075000\n",
       "Special Interest              83.333333\n",
       "Television                    36.000000\n",
       "Western                       65.000000\n",
       "Name: tomatometer_rating, dtype: float64"
      ]
     },
     "execution_count": 115,
     "metadata": {},
     "output_type": "execute_result"
    }
   ],
   "source": [
    "rt_explode.groupby('genre_names')['tomatometer_rating'].mean()"
   ]
  },
  {
   "cell_type": "code",
   "execution_count": 116,
   "metadata": {},
   "outputs": [],
   "source": [
    "rt_explode = rt_explode.head(15)"
   ]
  },
  {
   "cell_type": "markdown",
   "metadata": {},
   "source": [
    "### Made a scatterplot of the average audience rating and critic rating to see any discrepency"
   ]
  },
  {
   "cell_type": "code",
   "execution_count": 146,
   "metadata": {},
   "outputs": [
    {
     "name": "stderr",
     "output_type": "stream",
     "text": [
      "/Users/ashfa/miniconda3/envs/learn-env/lib/python3.8/site-packages/seaborn/_decorators.py:36: FutureWarning: Pass the following variables as keyword args: x, y. From version 0.12, the only valid positional argument will be `data`, and passing other arguments without an explicit keyword will result in an error or misinterpretation.\n",
      "  warnings.warn(\n"
     ]
    },
    {
     "data": {
      "image/png": "[encoded data removed]",
      "text/plain": [
       "<Figure size 864x720 with 1 Axes>"
      ]
     },
     "metadata": {},
     "output_type": "display_data"
    }
   ],
   "source": [
    "fix, ax = plt.subplots(1,1, figsize=(12,10))\n",
    "chart = sns.scatterplot(rt_explode.groupby('genre_names')['tomatometer_rating'].mean().values,\n",
    "                rt_explode.groupby('genre_names')['audience_rating'].mean().values,\n",
    "                hue = rt_explode.groupby('genre_names')['audience_rating'].mean().index,\n",
    "                s=200,\n",
    "                palette = \"Spectral\")\n",
    "chart.set_title('Correlation Between Average Audience Ratings and Critics Ratings of Movie Genres', fontdict={'size': 20, 'color': 'black'})\n",
    "\n",
    "plt.xlabel('Average Critic Rating', fontsize=16);\n",
    "plt.ylabel('Average Audience Rating', fontsize=16);\n",
    "\n",
    "plt.legend(bbox_to_anchor=(1.02, 0.357), loc='upper left', borderaxespad=0, fontsize = 15)\n",
    "sns.set_style(\"whitegrid\", {'grid.linestyle': '-.'})\n",
    "#for i in range(rt_explode.groupby('genre_names')['tomatometer_rating'].mean().size):\n",
    "    #plt.text(x=rt_explode.groupby('genre_names')['tomatometer_rating'].mean()[i]+0.4,\n",
    "            #y=rt_explode.groupby('genre_names')['audience_rating'].mean()[i]+0.3,\n",
    "             #s=rt_explode.groupby('genre_names')['tomatometer_rating'].mean().index[i])\n",
    "plt.savefig(\"output.jpg\", bbox_inches='tight')"
   ]
  },
  {
   "cell_type": "markdown",
   "metadata": {},
   "source": [
    "### We made this plot to see if there is a discrepency between audience rating and critic ratings. this plot shows there is a clear correlation between the two "
   ]
  },
  {
   "cell_type": "markdown",
   "metadata": {},
   "source": [
    "## Recommendation 2: Highest ROI Genres and Months"
   ]
  },
  {
   "cell_type": "markdown",
   "metadata": {},
   "source": [
    "### SQL Query Data Pull"
   ]
  },
  {
   "cell_type": "code",
   "execution_count": null,
   "metadata": {},
   "outputs": [],
   "source": [
    "cursor_obj.execute(\"\"\"SELECT name FROM sqlite_master WHERE type = 'table';\"\"\")\n",
    "im_table_names = cursor_obj.fetchall()\n",
    "im_table_names\n",
    "#Fetching all SQL table names"
   ]
  },
  {
   "cell_type": "code",
   "execution_count": null,
   "metadata": {},
   "outputs": [],
   "source": [
    "movie_basics_query = pd.read_sql(\"\"\"\n",
    "SELECT primary_title,start_year,runtime_minutes,genres\n",
    "    FROM movie_basics\n",
    ";\n",
    "\"\"\", con)\n",
    "#Pulling specific columns from movie_basics SQL table"
   ]
  },
  {
   "cell_type": "code",
   "execution_count": null,
   "metadata": {},
   "outputs": [],
   "source": [
    "movie_basics = pd.DataFrame(movie_basics_query)\n",
    "movie_basics\n",
    "#Converting query to dataframe format"
   ]
  },
  {
   "cell_type": "markdown",
   "metadata": {},
   "source": [
    "### Formatting CSV Data"
   ]
  },
  {
   "cell_type": "code",
   "execution_count": null,
   "metadata": {},
   "outputs": [],
   "source": [
    "tn_movie_budgets[\"production_budget\"] = tn_movie_budgets[\"production_budget\"].str.replace(\"$\",\"\").str.replace(\",\",\"\").astype(int)\n",
    "#Stripping column of characters and converting to integers"
   ]
  },
  {
   "cell_type": "code",
   "execution_count": null,
   "metadata": {},
   "outputs": [],
   "source": [
    "tn_movie_budgets[\"domestic_gross\"] = tn_movie_budgets[\"domestic_gross\"].str.replace(\"$\",\"\").str.replace(\",\",\"\").astype(int)"
   ]
  },
  {
   "cell_type": "code",
   "execution_count": null,
   "metadata": {},
   "outputs": [],
   "source": [
    "tn_movie_budgets[\"worldwide_gross\"] = tn_movie_budgets[\"worldwide_gross\"].str.replace(\"$\",\"\").str.replace(\",\",\"\").astype(\"int64\")"
   ]
  },
  {
   "cell_type": "code",
   "execution_count": null,
   "metadata": {},
   "outputs": [],
   "source": [
    "tn_movie_budgets[\"ROI\"] = (tn_movie_budgets[\"worldwide_gross\"] - tn_movie_budgets[\"production_budget\"]) / tn_movie_budgets[\"production_budget\"]\n",
    "#Creating ROI column with ROI formula as the input"
   ]
  },
  {
   "cell_type": "code",
   "execution_count": null,
   "metadata": {},
   "outputs": [],
   "source": [
    "tn_movie_budgets[\"release_date\"] = pd.to_datetime(tn_movie_budgets[\"release_date\"])\n",
    "#Converting release date column to date-time format"
   ]
  },
  {
   "cell_type": "code",
   "execution_count": null,
   "metadata": {},
   "outputs": [],
   "source": [
    "tn_movie_budgets['year'] = tn_movie_budgets['release_date'].dt.year\n",
    "tn_movie_budgets\n",
    "#Creating year column from release_date column"
   ]
  },
  {
   "cell_type": "markdown",
   "metadata": {},
   "source": [
    "### Merging SQL Query With Budgets CSV"
   ]
  },
  {
   "cell_type": "code",
   "execution_count": null,
   "metadata": {},
   "outputs": [],
   "source": [
    "merged = movie_basics.merge(tn_movie_budgets , how = 'inner' ,right_on= ['movie', 'year'], left_on = ['primary_title','start_year' ])\n",
    "#Merging SQL movie_basics df with tn_movie_budgets df"
   ]
  },
  {
   "cell_type": "code",
   "execution_count": null,
   "metadata": {},
   "outputs": [],
   "source": [
    "budgets_and_genres = merged.sort_values(by = \"ROI\",ascending = False)\n",
    "#Sorting by highest ROI"
   ]
  },
  {
   "cell_type": "markdown",
   "metadata": {},
   "source": [
    "### Dropping Null Values"
   ]
  },
  {
   "cell_type": "code",
   "execution_count": null,
   "metadata": {},
   "outputs": [],
   "source": [
    "budgets_and_genres.dropna(inplace = True)\n",
    "#Dropping null values"
   ]
  },
  {
   "cell_type": "markdown",
   "metadata": {},
   "source": [
    "### Seperating Genres into Individual Rows to Get Mean ROI For Each"
   ]
  },
  {
   "cell_type": "code",
   "execution_count": null,
   "metadata": {},
   "outputs": [],
   "source": [
    "budgets_and_genres[\"genres\"] = budgets_and_genres[\"genres\"].str.split(\",\")\n",
    "#Turning genre column rows into lists"
   ]
  },
  {
   "cell_type": "code",
   "execution_count": null,
   "metadata": {},
   "outputs": [],
   "source": [
    "budgets_and_genres_explode = budgets_and_genres[['primary_title', 'genres', 'ROI']].explode('genres')\n",
    "#Exploding merged table based on genre to get individual rows of movies and their seperate genres with the same index"
   ]
  },
  {
   "cell_type": "code",
   "execution_count": null,
   "metadata": {},
   "outputs": [],
   "source": [
    "budgets_and_genres_explode.groupby(by=\"genres\").mean(\"ROI\")\n",
    "#Grouping results by genre along with their mean ROI"
   ]
  },
  {
   "cell_type": "markdown",
   "metadata": {},
   "source": [
    "### Finding and Removing Outliers within Merged Data"
   ]
  },
  {
   "cell_type": "code",
   "execution_count": null,
   "metadata": {},
   "outputs": [],
   "source": [
    "sns.boxplot(budgets_and_genres_explode['ROI'])\n",
    "#Using boxplot to determine ROI outliers in the data"
   ]
  },
  {
   "cell_type": "code",
   "execution_count": null,
   "metadata": {},
   "outputs": [],
   "source": [
    "outliers_remove = budgets_and_genres_explode.drop(budgets_and_genres_explode[(budgets_and_genres_explode[\"ROI\"] > 100) | (budgets_and_genres_explode[\"ROI\"] < 0)].index)\n",
    "outliers_remove\n",
    "#Removing outliers with ROI > 100 and ROI < 0 "
   ]
  },
  {
   "cell_type": "markdown",
   "metadata": {},
   "source": [
    "### Determining Mean ROI Per Genre"
   ]
  },
  {
   "cell_type": "code",
   "execution_count": null,
   "metadata": {},
   "outputs": [],
   "source": [
    "mean_ROI = outliers_remove.groupby(by=\"genres\").mean(\"ROI\")\n",
    "mean_ROI\n",
    "#Creating mean ROI per movie genre table"
   ]
  },
  {
   "cell_type": "markdown",
   "metadata": {},
   "source": [
    "### Graphing the Data for Mean ROI Per Genre"
   ]
  },
  {
   "cell_type": "code",
   "execution_count": null,
   "metadata": {},
   "outputs": [],
   "source": [
    "fix, ax = plt.subplots(figsize=(15,10))\n",
    "sns.barplot(outliers_remove.groupby(by=\"genres\")[\"ROI\"].mean().index,\n",
    "            outliers_remove.groupby(by=\"genres\")[\"ROI\"].mean().values,\n",
    "           palette = \"Spectral\")\n",
    "plt.xticks(rotation=90, ha='right', fontsize = 12)\n",
    "plt.xlabel(\"Movie Genres\",fontsize = 15)\n",
    "plt.ylabel(\"Mean ROI\",fontsize = 15)\n",
    "ax.set_title(\"Mean ROI Per Movie Genre\",fontsize = 17)\n",
    "\n",
    "for p in ax.patches:\n",
    "    _x = p.get_x() + p.get_width() / 2\n",
    "    _y = p.get_y() + p.get_height() + (p.get_height()*0.01)\n",
    "    value = '{:.1f}'.format(p.get_height())\n",
    "    ax.text(_x, _y, value, ha=\"center\",fontsize = 12)\n",
    "    \n",
    "#Grpahing Mean ROI per genre"
   ]
  },
  {
   "cell_type": "markdown",
   "metadata": {},
   "source": [
    "### Adding Release Date to Data and Seperating by Month"
   ]
  },
  {
   "cell_type": "code",
   "execution_count": null,
   "metadata": {},
   "outputs": [],
   "source": [
    "months_genres_explode = budgets_and_genres[['primary_title', 'genres', 'ROI',\"release_date\"]].explode('genres')\n",
    "months_genres_explode = months_genres_explode.drop(budgets_and_genres[(budgets_and_genres[\"ROI\"] > 100) | (budgets_and_genres[\"ROI\"] < 0)].index)\n",
    "#Exploding rows based on genres and removing outliers from ROI"
   ]
  },
  {
   "cell_type": "code",
   "execution_count": null,
   "metadata": {},
   "outputs": [],
   "source": [
    "months_genres_explode[\"month\"] = months_genres_explode[\"release_date\"].dt.strftime(\"%m\")\n",
    "months_genres_explode[\"month\"].value_counts()\n",
    "#Seperating month from release date"
   ]
  },
  {
   "cell_type": "markdown",
   "metadata": {},
   "source": [
    "### Grouping Data by Month to Get Mean ROI"
   ]
  },
  {
   "cell_type": "code",
   "execution_count": null,
   "metadata": {},
   "outputs": [],
   "source": [
    "mean_ROI_months = months_genres_explode.groupby(by=\"month\").mean(\"ROI\")\n",
    "mean_ROI_months\n",
    "#Grouping mean ROI by month"
   ]
  },
  {
   "cell_type": "markdown",
   "metadata": {},
   "source": [
    "### Graphing Mean ROI Across Months"
   ]
  },
  {
   "cell_type": "code",
   "execution_count": null,
   "metadata": {},
   "outputs": [],
   "source": [
    "labels = [\"Jan\",\"Feb\",\"Mar\",\"Apr\",\"May\",\"Jun\",\"Jul\",\"Aug\",\"Sep\",\"Oct\",\"Nov\",\"Dec\"]\n",
    "\n",
    "fix, ax = plt.subplots(figsize=(15,10))\n",
    "sns.lineplot(months_genres_explode.groupby(by=\"month\")[\"ROI\"].mean().index,\n",
    "            months_genres_explode.groupby(by=\"month\")[\"ROI\"].mean().values,\n",
    "            linewidth = 3)\n",
    "plt.xticks(rotation=90, ha='right',fontsize = 13)\n",
    "plt.xlabel(\"Months\",fontsize = 15)\n",
    "plt.ylabel(\"Mean ROI\", fontsize = 15)\n",
    "ax.set_title(\"Mean ROI Per Month Across All Genres\",fontsize = 17)\n",
    "ax.set_xticklabels(labels)\n",
    "\n",
    "#Graphing Mean ROI Across Months"
   ]
  },
  {
   "cell_type": "markdown",
   "metadata": {},
   "source": [
    "# RECOMMENDATION 3: ACTORS BASED ON POPULARITY"
   ]
  },
  {
   "cell_type": "markdown",
   "metadata": {},
   "source": [
    "CREATING A TABLE WITH ACTORS/ACTRESS AND THEIR NAMES"
   ]
  },
  {
   "cell_type": "code",
   "execution_count": null,
   "metadata": {},
   "outputs": [],
   "source": [
    "#loading and specifying columns in principals table\n",
    "persons_ = pd.read_sql(\"\"\"\n",
    "SELECT movie_id, person_id, category\n",
    "FROM principals\n",
    "WHERE category = 'actor' OR category = 'actress';\n",
    "\"\"\", con)"
   ]
  },
  {
   "cell_type": "code",
   "execution_count": null,
   "metadata": {},
   "outputs": [],
   "source": [
    "#loading and specifying columns in persons table\n",
    "persons_name = pd.read_sql(\"\"\"\n",
    "SELECT person_id, primary_name, primary_profession\n",
    "FROM persons\n",
    "WHERE primary_profession = 'actor' OR primary_profession = 'actress'\n",
    "\"\"\", con)"
   ]
  },
  {
   "cell_type": "code",
   "execution_count": null,
   "metadata": {},
   "outputs": [],
   "source": [
    "#converting tables to PD DataFrame\n",
    "persons_df = pd.DataFrame(persons_)\n",
    "persons_name_df = pd.DataFrame(persons_name)"
   ]
  },
  {
   "cell_type": "code",
   "execution_count": null,
   "metadata": {},
   "outputs": [],
   "source": [
    "#merging both DataFrames based on common column: person_id\n",
    "merged_df = pd.merge(persons_, persons_name, on = 'person_id')"
   ]
  },
  {
   "cell_type": "code",
   "execution_count": null,
   "metadata": {},
   "outputs": [],
   "source": [
    "merged_df.drop(columns = 'primary_profession', inplace = True)"
   ]
  },
  {
   "cell_type": "markdown",
   "metadata": {},
   "source": [
    "Adding Movie_basics table & ratings table to the dataframe"
   ]
  },
  {
   "cell_type": "code",
   "execution_count": null,
   "metadata": {},
   "outputs": [],
   "source": [
    "#adding movie basics to a dataframe\n",
    "movie_info = pd.read_sql(\"\"\"\n",
    "SELECT * FROM movie_basics;\n",
    "\"\"\", con)"
   ]
  },
  {
   "cell_type": "code",
   "execution_count": null,
   "metadata": {},
   "outputs": [],
   "source": [
    "movies = pd.DataFrame(movie_info)"
   ]
  },
  {
   "cell_type": "code",
   "execution_count": null,
   "metadata": {},
   "outputs": [],
   "source": [
    "#removing null values\n",
    "movies.dropna(axis = 0, inplace = True)"
   ]
  },
  {
   "cell_type": "code",
   "execution_count": null,
   "metadata": {},
   "outputs": [],
   "source": [
    "#merging movie dataframe \n",
    "movies_actors = pd.merge(merged_df, movies, on = 'movie_id')"
   ]
  },
  {
   "cell_type": "code",
   "execution_count": null,
   "metadata": {},
   "outputs": [],
   "source": [
    "#adding movie ratings to a dataframe\n",
    "ratings = pd.read_sql(\"\"\"\n",
    "SELECT * FROM movie_ratings\n",
    "\"\"\", con)"
   ]
  },
  {
   "cell_type": "code",
   "execution_count": null,
   "metadata": {},
   "outputs": [],
   "source": [
    "movie_ratings = pd.DataFrame(ratings)"
   ]
  },
  {
   "cell_type": "code",
   "execution_count": null,
   "metadata": {},
   "outputs": [],
   "source": [
    "#merging dataframes w. dataframe that was made with actors/actresses info\n",
    "ratings_mov = pd.merge(movies_actors, movie_ratings, on = 'movie_id')"
   ]
  },
  {
   "cell_type": "markdown",
   "metadata": {},
   "source": [
    "ADDING MOVIE GROSS VALUES TO THE TABLE"
   ]
  },
  {
   "cell_type": "code",
   "execution_count": null,
   "metadata": {},
   "outputs": [],
   "source": [
    "movie_full = pd.merge(ratings_mov, tn_movie_budgets, left_on = 'primary_title', right_on = 'movie')\n",
    "movie_full"
   ]
  },
  {
   "cell_type": "markdown",
   "metadata": {},
   "source": [
    "USING EXPLODE METHOD TO SEPARATE MULTIPLE GENRE VALUES FROM THE GENRE COLUMN"
   ]
  },
  {
   "cell_type": "code",
   "execution_count": null,
   "metadata": {},
   "outputs": [],
   "source": [
    "movie_full['genres'] = movie_full['genres'].apply(lambda x: x.split(','))"
   ]
  },
  {
   "cell_type": "code",
   "execution_count": null,
   "metadata": {},
   "outputs": [],
   "source": [
    "movie_info_ = movie_full.explode('genres')"
   ]
  },
  {
   "cell_type": "code",
   "execution_count": null,
   "metadata": {},
   "outputs": [],
   "source": [
    "#dropping columns that are not needed\n",
    "movie_info_.drop(['original_title', 'runtime_minutes', 'id', 'movie'], axis=1)"
   ]
  },
  {
   "cell_type": "markdown",
   "metadata": {},
   "source": [
    "ADVENTURE MOVIES"
   ]
  },
  {
   "cell_type": "code",
   "execution_count": null,
   "metadata": {},
   "outputs": [],
   "source": [
    "adv_movies = movie_info_[(movie_info_['genres'] == 'Adventure')]\n",
    "adv_counts = adv_movies['primary_name'].value_counts().sort_values(ascending = False, inplace = False).head(5)\n",
    "adv_counts"
   ]
  },
  {
   "cell_type": "code",
   "execution_count": null,
   "metadata": {},
   "outputs": [],
   "source": [
    "adv_1 = adv_movies[(adv_movies['primary_name'] == 'Mark Strong')]\n",
    "adv_2 = adv_movies[(adv_movies['primary_name'] == 'Asa Butterfield')]\n",
    "adv_3 = adv_movies[(adv_movies['primary_name'] == 'Karl Urban')]\n",
    "adv_4 = adv_movies[(adv_movies['primary_name'] == 'Matthew Macfadyen')]\n",
    "adv = pd.concat([adv_1.assign(dataset='adv_1'),adv_2.assign(dataset='adv_2'), adv_3.assign(dataset='adv_3'), adv_4.assign(dataset='adv_4')])"
   ]
  },
  {
   "cell_type": "code",
   "execution_count": null,
   "metadata": {},
   "outputs": [],
   "source": [
    "plt.rcParams.update({'font.size': 15})\n",
    "\n",
    "fig, ax = plt.subplots(figsize = (15,10))\n",
    "\n",
    "sns.barplot(x = 'primary_title', y = 'averagerating', hue = 'primary_name',data = adv, palette = \"Spectral\", dodge = False)\n",
    "ax.set_xlabel('Movie Title', fontdict={'fontsize':20} )\n",
    "ax.set_ylabel('Average Rating')\n",
    "ax.set_title('Avg Rating for Actors in Adventure Movies')\n",
    "\n",
    "plt.legend(loc='upper right', bbox_to_anchor = (0,1))\n",
    "\n",
    "plt.xticks(rotation=45, ha='right')\n",
    " \n",
    "plt.show()"
   ]
  },
  {
   "cell_type": "markdown",
   "metadata": {},
   "source": [
    "ACTION MOVIES"
   ]
  },
  {
   "cell_type": "code",
   "execution_count": null,
   "metadata": {},
   "outputs": [],
   "source": [
    "act_movies = movie_info_[(movie_info_['genres'] == 'Action')]\n",
    "act_counts = act_movies['primary_name'].value_counts().sort_values(ascending = False, inplace = False).head(5)\n",
    "act_counts"
   ]
  },
  {
   "cell_type": "code",
   "execution_count": null,
   "metadata": {},
   "outputs": [],
   "source": [
    "act_1 = act_movies[(act_movies['primary_name'] == 'Jennifer Connelly')]\n",
    "act_2 = act_movies[(act_movies['primary_name'] == 'Henry Cavill')]\n",
    "act_3 = act_movies[(act_movies['primary_name'] == 'David Harbour')]\n",
    "act_4 = act_movies[(act_movies['primary_name'] == 'Mark Strong')]\n",
    "act = pd.concat([act_1.assign(dataset='act_1'),act_2.assign(dataset='act_2'), act_3.assign(dataset='act_3'), act_4.assign(dataset='act_4')])"
   ]
  },
  {
   "cell_type": "code",
   "execution_count": null,
   "metadata": {},
   "outputs": [],
   "source": [
    "plt.rcParams.update({'font.size': 15})\n",
    "fig, ax = plt.subplots(figsize = (15,10))\n",
    "\n",
    "sns.barplot(x = 'primary_title', y = 'averagerating', hue = 'primary_name',data = act, palette = \"Spectral\", dodge = False)\n",
    "ax.set_xlabel('Movie Title', fontdict={'fontsize':20} )\n",
    "ax.set_ylabel('Average Rating')\n",
    "ax.set_title('Avg Rating for Actors in Action Movies')\n",
    "\n",
    "plt.legend(loc='upper right', bbox_to_anchor = (0,1))\n",
    "\n",
    "plt.xticks(rotation=45, ha='right')\n",
    " \n",
    "plt.show()"
   ]
  },
  {
   "cell_type": "markdown",
   "metadata": {},
   "source": [
    "HORROR MOVIES"
   ]
  },
  {
   "cell_type": "code",
   "execution_count": null,
   "metadata": {},
   "outputs": [],
   "source": [
    "hor_movies = movie_info_[(movie_info_['genres'] == 'Horror')]\n",
    "hor_counts = hor_movies['primary_name'].value_counts().sort_values(ascending = False, inplace = False).head(5)\n",
    "hor_counts"
   ]
  },
  {
   "cell_type": "code",
   "execution_count": null,
   "metadata": {},
   "outputs": [],
   "source": [
    "hor_1 = hor_movies[(hor_movies['primary_name'] == 'Tiffany-Ellen Robinson')]\n",
    "hor_2 = hor_movies[(hor_movies['primary_name'] == 'Anya Taylor-Joy')]\n",
    "hor_3 = hor_movies[(hor_movies['primary_name'] == 'Alessandra Shelby Farmer')]\n",
    "hor_4 = hor_movies[(hor_movies['primary_name'] == 'Richard Jenkins')]\n",
    "hor = pd.concat([hor_1.assign(dataset='hor_1'),hor_2.assign(dataset='hor_2'), hor_3.assign(dataset='hor_3'), hor_4.assign(dataset='hor_4')])"
   ]
  },
  {
   "cell_type": "code",
   "execution_count": null,
   "metadata": {},
   "outputs": [],
   "source": [
    "plt.rcParams.update({'font.size': 15})\n",
    "fig, ax = plt.subplots(figsize = (15,10))\n",
    "\n",
    "sns.barplot(x = 'primary_title', y = 'averagerating', hue = 'primary_name',data = hor, palette = \"Spectral\", dodge = False)\n",
    "ax.set_xlabel('Movie Title', fontdict={'fontsize':20} )\n",
    "ax.set_ylabel('Average Rating')\n",
    "ax.set_title('Avg Rating for Actors in Horror Movies')\n",
    "\n",
    "plt.legend(loc='upper right', bbox_to_anchor = (0,1))\n",
    "\n",
    "plt.xticks(rotation=45, ha='right')\n",
    " \n",
    "plt.show()"
   ]
  },
  {
   "cell_type": "code",
   "execution_count": null,
   "metadata": {},
   "outputs": [],
   "source": []
  }
 ],
 "metadata": {
  "kernelspec": {
   "display_name": "Python 3 (ipykernel)",
   "language": "python",
   "name": "python3"
  },
  "language_info": {
   "codemirror_mode": {
    "name": "ipython",
    "version": 3
   },
   "file_extension": ".py",
   "mimetype": "text/x-python",
   "name": "python",
   "nbconvert_exporter": "python",
   "pygments_lexer": "ipython3",
   "version": "3.10.9"
  }
 },
 "nbformat": 4,
 "nbformat_minor": 4
}
